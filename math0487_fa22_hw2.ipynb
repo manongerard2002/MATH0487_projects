{
 "cells": [
  {
   "cell_type": "markdown",
   "metadata": {
    "id": "9031b1c4"
   },
   "source": [
    "# MATH0487-2 : Eléments de statistiques\n",
    "## Devoir 2 - Modèles (suite), estimation ponctuelle et par intervalle, et tests d'hypothèse\n",
    "### L'équipe de MATH0487\n",
    "#### Université de Liège, Novembre 2022\n",
    "\n",
    "---"
   ]
  },
  {
   "cell_type": "markdown",
   "metadata": {
    "id": "f2354bb3"
   },
   "source": [
    "<!-- BEGIN QUESTION -->\n",
    "\n",
    "**Nom(s), Prénom(s) et matricule(s) :**"
   ]
  },
  {
   "cell_type": "markdown",
   "metadata": {
    "id": "fc2adf1d"
   },
   "source": [
    "<span style=\"color:red\">Manon GERARD s201354 ; Charline DANTINNE s201485</span>"
   ]
  },
  {
   "cell_type": "markdown",
   "metadata": {
    "id": "39dee66e"
   },
   "source": [
    "<!-- END QUESTION -->\n",
    "\n",
    "---"
   ]
  },
  {
   "cell_type": "markdown",
   "metadata": {
    "id": "6496a49f"
   },
   "source": [
    "## Instructions générales"
   ]
  },
  {
   "cell_type": "markdown",
   "metadata": {
    "id": "3befdd19"
   },
   "source": [
    "### Objectifs"
   ]
  },
  {
   "cell_type": "markdown",
   "metadata": {
    "id": "d6409d09"
   },
   "source": [
    "Les objectifs de ce devoir sont les suivants : \n",
    "\n",
    "- calculer et comparer des *estimateurs ponctuels* pour les paramètres d'un modèle statistique,\n",
    "\n",
    "- calculer et comparer des *estimateurs par intervalle* pour les paramètres d'un modèle statistique,\n",
    "\n",
    "- réaliser des *tests d'hypothèse* sur les moyennes de population."
   ]
  },
  {
   "cell_type": "markdown",
   "metadata": {
    "id": "6069ead3"
   },
   "source": [
    "### Délivrables"
   ]
  },
  {
   "cell_type": "markdown",
   "metadata": {
    "id": "1cb016a4"
   },
   "source": [
    "Ce devoir doit être réalisé par groupe de 2 étudiants maximum. Chaque groupe doit\n",
    "rendre ce notebook complété, et rien d'autre. \n",
    "\n",
    "La date limite de soumission est fixée au **20 décembre 2022**. Jusqu’à cette date, vous avez la possibilité de (re)soumettre votre rapport ou votre code autant de fois que vous le souhaitez. Au-delà de cette date, il ne sera plus possible de soumettre le devoir. N’attendez pas la dernière minute pour soumettre une première version de votre travail !"
   ]
  },
  {
   "cell_type": "markdown",
   "metadata": {
    "id": "fb4760d1"
   },
   "source": [
    "La soumission doit se faire sur la plateforme [Gradescope](https://www.gradescope.com/) directement. \n",
    "\n",
    "- Chaque étudiant doit s'inscrire sur [Gradescope](https://www.gradescope.com/) en utilisant son adresse `@student.uliege.be`. Si vous ne voyez pas le cours MATH0487 dans votre tableau de bord, contactez-nous sur [Ed](https://edstem.org/us/dashboard) au plus vite (n'attendez pas la veille de la date de soumission pour vérifier que vous avez accès au cours sur Gradescope ;- ).\n",
    "\n",
    "- Chaque groupe doit soumettre un seul fichier `.ipynb` sur [Gradescope](https://www.gradescope.com/). Toutes les cellules doivent être exécutables et leurs sorties ne doivent pas être effacées avant la soumission (les sorties doivent être **visibles**). Assurez-vous que tous les membres du groupe sont correctement ajoutés à la soumission !\n",
    "\n",
    "Si vous n'êtes pas familier avec Gradescope, vous trouverez des explicationns sur chaque étape de la soumission ci-dessous :\n",
    "- [Soumission de code](https://help.gradescope.com/article/ccbpppziu9-student-submit-work#code_submissions),\n",
    "- [Ajout de membres de groupe](https://help.gradescope.com/article/m5qz2xsnjy-student-add-group-members)."
   ]
  },
  {
   "cell_type": "markdown",
   "metadata": {
    "id": "c2f744e6"
   },
   "source": [
    "***Remarques importantes*** sur l'utilisation de ce notebook :\n",
    "- Ne modifiez et ne supprimez pas de cellules (Markdown) contenant des consignes/questions.\n",
    "- Remplissez uniquement les cellules prévues à cet effet (`...` indique une portion réservée à votre code, et <span style=\"color:red\">VOTRE TEXTE ICI</span> indique une portion réservée à une réponse écrite), n'en créez pas de nouvelles; si, pour une raison quelconque, vous veniez à supprimer une cellule prédéfinie, il vous est demandé de télécharger à nouveau le notebook vierge et de copier le contenu déjà développé de votre côté dans cette copie vierge.\n",
    "- Respectez le type de cellule prévu pour une question donnée: certaines questions demandent d'implémenter du code (cellules \"Code\", en Python) et de présenter des résultats (valeurs numériques, tables, graphes, ...), et d'autres vous demandent de fournir une réponse utilisant du texte (cellules \"Markdown\", incluant certaines commandes LaTeX et acceptant la syntaxe HTML).\n",
    "- Lorsqu'il vous est demandé de présenter des résultats, ceux-ci doivent être présents en sortie de la cellule correspondante dans votre notebook exécuté et soumis.\n",
    "\n",
    "Si vous rencontrez des problèmes ou avez des questions concernant ces remarques, merci de contacter l'équipe pédagogique *via* le forum de [Ed Discussion](https://edstem.org/us/courses/29547/discussion/1795956)."
   ]
  },
  {
   "cell_type": "markdown",
   "metadata": {
    "id": "58b30fdf"
   },
   "source": [
    "### Questions"
   ]
  },
  {
   "cell_type": "markdown",
   "metadata": {
    "id": "da4314c6"
   },
   "source": [
    "Toutes vos questions sur le devoir doivent être postées dans le forum de [Ed Discussion](https://edstem.org/us/courses/29547/discussion/1795956) du\n",
    "cours sous la catégorie *Assignments/Homework* (une question par fil de discussion). Vos questions sur\n",
    "l’utilisation de Jupyter peuvent être postées sous la catégorie *Jupyter*."
   ]
  },
  {
   "cell_type": "markdown",
   "metadata": {
    "id": "3675be26"
   },
   "source": [
    "### Politique de collaboration"
   ]
  },
  {
   "cell_type": "markdown",
   "metadata": {
    "id": "79a63fe9"
   },
   "source": [
    "Vous pouvez discuter du devoir avec d’autres groupes, mais *vous devez\n",
    "écrire vous-même vos propres solutions, et écrire et exécuter vous-même votre propre code*. Copier la\n",
    "solution de quelqu’un d’autre, ou simplement apporter des modifications triviales pour ne pas copier\n",
    "textuellement, n’est pas acceptable."
   ]
  },
  {
   "cell_type": "markdown",
   "metadata": {
    "id": "c68f5408"
   },
   "source": [
    "---"
   ]
  },
  {
   "cell_type": "markdown",
   "metadata": {
    "id": "830c8477"
   },
   "source": [
    "## 0. Présentation du problème"
   ]
  },
  {
   "cell_type": "markdown",
   "metadata": {
    "id": "3438b493"
   },
   "source": [
    "Pour ce second devoir, vous allez repartir du set de données utilisé pour le premier devoir. Pour rappel, celui-ci présentait plusieurs variables pour 1599 variantes rouges du vin portugais *Vinho verde*. Ces données peuvent être à nouveau chargées depuis le fichier `math0487_fa22_hw2_data.csv` de l'archive fournie. "
   ]
  },
  {
   "cell_type": "markdown",
   "metadata": {
    "id": "b6d740da"
   },
   "source": [
    "## 1. Estimation ponctuelle"
   ]
  },
  {
   "cell_type": "markdown",
   "metadata": {
    "id": "c4d01dd0"
   },
   "source": [
    "Dans cette partie, vous allez construire et comparer des estimateurs ponctuels pour les paramètres d'un modèle statistique de la variable \"acidité fixe\" du vin (*fixed acidity* dans votre set de données).\n",
    "\n",
    "Cette variable prend des valeurs positives et s'exprime en [$g/dm^3$]. Étant donné la grande variété de formes qu'elle peut prendre, vous allez utiliser comme modèle statistique une distribution $\\mathrm{Gamma}(a, \\lambda)$ dont la PDF est donnée par\n",
    "\n",
    "$$ \\Gamma(a)^{-1} (\\lambda x)^a e^{-\\lambda x} x^{-1},\\; \\text{pour} \\; x>0$$\n",
    "\n",
    "de paramètres $a$ et $\\lambda$ inconnus.\n",
    "\n",
    "Vous êtes curieux de découvrir les différences entre deux méthodes d'estimation ponctuelle de paramètres vues au cours théorique : la méthode des moments (MOM) et la méthode du maximum de vraisemblance (MLE)."
   ]
  },
  {
   "cell_type": "markdown",
   "metadata": {
    "id": "3139fa8f"
   },
   "source": [
    "Vous commencez par tester ces méthodes sur un échantillon de 50 vins."
   ]
  },
  {
   "cell_type": "code",
   "execution_count": 2,
   "metadata": {
    "id": "e27a63f7"
   },
   "outputs": [],
   "source": [
    "# ces librairies devraient suffir à réaliser ce premier devoir, vous pouvez évidemment en utiliser d'autres (à importer dans cette cellule).\n",
    "import pandas as pd\n",
    "import numpy as np\n",
    "import scipy.optimize as opt\n",
    "import scipy.stats as stats\n",
    "import scipy.special as sp\n",
    "import matplotlib.pyplot as plt\n",
    "#from fitter import Fitter, get_common_distributions, get_distributions"
   ]
  },
  {
   "cell_type": "markdown",
   "metadata": {
    "id": "de690d24"
   },
   "source": [
    "<!-- BEGIN QUESTION -->\n",
    "\n",
    "### Question 1.1\n",
    "Démontrez mathématiquement les formules des estimateurs $\\hat{a}_\\mathrm{mom}$ et $\\hat{\\lambda}_\\mathrm{mom}$ des paramètres $a$ et $\\lambda$ en utilisant la méthode des moments (centrés ou non)."
   ]
  },
  {
   "cell_type": "markdown",
   "metadata": {
    "id": "0550b839"
   },
   "source": [
    "<span style=\"color:red\">Soit $X$ la variable aléatoire de l'acidité fixe\n",
    "\n",
    " $\\bar{X} = E(X) = \\dfrac{\\hat{a}_{mom}}{\\hat{\\lambda}_{mom}} \\qquad (1)$\n",
    "\n",
    " $ \\dfrac{1}{n} \\displaystyle{\\sum_{i = 1}^n X_i^2} = E(X^2) = Var(X) + E(X)^2 = \\dfrac{\\hat{a}_{mom}}{\\hat{\\lambda}_{mom}^2} + \\dfrac{\\hat{a}_{mom}^2}{\\hat{\\lambda}_{mom}^2} = \\dfrac{\\hat{a}_{mom} + \\hat{a}_{mom}^2}{\\hat{\\lambda}_{mom}^2} \\qquad (2)$\n",
    "\n",
    " (1) $ \\ \\hat{a}_{mom} = \\bar{X} . \\hat{\\lambda}_{mom}$\n",
    "\n",
    " (1) $\\rightarrow$ (2) $\\dfrac{1}{n} \\displaystyle{\\sum_{i = 1}^n X_i^2} = \\dfrac{\\bar{X} . \\hat{\\lambda}_{mom} + \\bar{X}^2 . \\hat{\\lambda}_{mom}^2}{\\hat{\\lambda}_{mom}^2} = \\dfrac{\\bar{X} + \\bar{X}^2 . \\hat{\\lambda}_{mom}}{\\hat{\\lambda}_{mom} }$  $\\Leftrightarrow \\hat{\\lambda}_{mom} = \\dfrac{\\bar{X}}{\\displaystyle{\\bigg(\\dfrac{1}{n} \\sum_{i = 1}^n X_i^2}\\bigg) - \\bar{X}^2}$\n",
    "\n",
    " $\\Rightarrow \\hat{a}_{mom} = \\dfrac{\\bar{X}^2}{\\displaystyle{\\bigg(\\dfrac{1}{n} \\sum_{i = 1}^n X_i^2}\\bigg) - \\bar{X}^2}$</span>"
   ]
  },
  {
   "cell_type": "markdown",
   "metadata": {
    "id": "d4af088c"
   },
   "source": [
    "<!-- END QUESTION -->\n",
    "\n",
    "<!-- BEGIN QUESTION -->\n",
    "\n",
    "### Question 1.2 \n",
    "Calculez maintenant la valeur de ces paramètres sur votre échantillon de 50 vins."
   ]
  },
  {
   "cell_type": "code",
   "execution_count": 50,
   "metadata": {
    "colab": {
     "base_uri": "https://localhost:8080/"
    },
    "id": "5ffd8071",
    "outputId": "0b5f97f5-b685-4b7a-aed3-ae69234ce8ca"
   },
   "outputs": [
    {
     "name": "stdout",
     "output_type": "stream",
     "text": [
      "lambda_mom = 2.165096702266891\n",
      "a_mom = 18.567869318640856\n"
     ]
    }
   ],
   "source": [
    "# chargement du dataset\n",
    "sheet_url = \"./data/math0487_fa22_hw2_data.csv\"\n",
    "data = pd.read_csv(sheet_url, header=0, names=['fixed acidity','volatile acidity','citric acid','residual sugar','chlorides','free sulfur dioxide','total sulfur dioxide','density','pH','sulphates','alcohol','quality'], usecols=['fixed acidity','total sulfur dioxide','alcohol','quality'])\n",
    "\n",
    "data_fxd_acid = data[['fixed acidity']]\n",
    "fxd_acid = data_fxd_acid['fixed acidity']\n",
    "\n",
    "# sample size\n",
    "n = 50\n",
    "echantillon = fxd_acid.sample(n=n)\n",
    "fxd_acid_mean = echantillon.mean()\n",
    "\n",
    "sum = 0\n",
    "for i in range(n):\n",
    "    sum += echantillon.iat[i]**2\n",
    "sum /= n\n",
    "\n",
    "lambda_mom = fxd_acid_mean / (sum - fxd_acid_mean**2)\n",
    "a_mom = fxd_acid_mean * lambda_mom\n",
    "print(\"lambda_mom =\", lambda_mom)\n",
    "print(\"a_mom =\", a_mom)"
   ]
  },
  {
   "cell_type": "markdown",
   "metadata": {
    "id": "82711fe7"
   },
   "source": [
    "<!-- END QUESTION -->\n",
    "\n",
    "<!-- BEGIN QUESTION -->\n",
    "\n",
    "### Question 1.3"
   ]
  },
  {
   "cell_type": "markdown",
   "metadata": {
    "id": "60dbe016"
   },
   "source": [
    "Vous vous apprêtez à faire de même pour déterminer les estimateurs du maximum de vraisemblance quand un de vos collègues vous explique qu'il n'existe pas de formule analytique du maximum de vraisemblance pour une distribution $\\mathrm{Gamma}(a, \\lambda)$ avec deux paramètres inconnus. Par contre, il vous fait remarquer qu'il est possible de déterminer *numériquement* ce maximum en maximisant la fonction de log-vraisemblance suivante :\n",
    "\n",
    "$$\\ln L(a, \\lambda; \\textbf{x}) = (a-1) \\sum_i \\ln x_i - n \\ln \\Gamma(a) + n a \\ln \\lambda - \\lambda \\sum_i x_i$$\n",
    "\n",
    "où $\\textbf{x}$ correspond à vos données d'échantillon, $n$ est le nombre d'éléments dans votre échantillon et $\\Gamma$ désigne la fonction Gamma d'Euler. "
   ]
  },
  {
   "cell_type": "markdown",
   "metadata": {
    "id": "30f5a35d"
   },
   "source": [
    " Démontrez que la formulation mathématique de la log-vraisemblance d'une distribution $\\mathrm{Gamma}$ donnée ci-dessus est bien valide."
   ]
  },
  {
   "cell_type": "markdown",
   "metadata": {
    "id": "3a259de8"
   },
   "source": [
    "<span style=\"color:red\">$\\displaystyle L(a, \\lambda; \\textbf{x}) = f_{\\textbf{X}}(\\textbf{x}; a, \\lambda) = \\prod_{i=1}^n f_{X}(x_i; a, \\lambda) = \\prod_{i=1}^n \\Gamma(a)^{-1} (\\lambda x_i)^a e^{-\\lambda x_i} x_i^{-1}$\n",
    "\n",
    "$\\displaystyle \\ln L(a, \\lambda; \\textbf{x}) = \\ln \\bigg( \\prod_{i=1}^n \\Gamma(a)^{-1} (\\lambda x_i)^a e^{-\\lambda x_i} x_i^{-1} \\bigg)$\n",
    "\n",
    "$\\displaystyle \\ln L(a, \\lambda; \\textbf{x}) = \\sum_{i = 1}^n ln \\bigg(\\Gamma(a)^{-1} (\\lambda x_i)^a e^{-\\lambda x_i} x_i^{-1}\\bigg)$ \n",
    "\n",
    "$\\displaystyle \\ln L(a, \\lambda; \\textbf{x}) = \\sum_{i = 1}^n \\bigg( - \\ln \\Gamma(a) + a . \\ln(\\lambda) + a . \\ln(x) - \\lambda . x - \\ln(x)\\bigg)$\n",
    "\n",
    "$\\displaystyle \\ln L(a, \\lambda; \\textbf{x}) = - n \\ln \\Gamma(a) + a . n . \\ln(\\lambda) + a . \\sum_{i = 1}^n \\ln (x_i) - \\lambda . \\sum_{i = 1}^n x_i - \\sum_{i = 1}^n \\ln x_i$\n",
    "\n",
    "$\\displaystyle \\ln L(a, \\lambda; \\textbf{x}) = (a-1) \\sum_i \\ln x_i - n \\ln \\Gamma(a) + n a \\ln \\lambda - \\lambda \\sum_i x_i$\n",
    "\n",
    "</span>"
   ]
  },
  {
   "cell_type": "markdown",
   "metadata": {
    "id": "60a1f1ff"
   },
   "source": [
    "<!-- END QUESTION -->\n",
    "\n",
    "<!-- BEGIN QUESTION -->\n",
    "\n",
    "Montrez ensuite qu'une manière de déterminer les estimateurs $\\hat{a}_\\mathrm{ml}$ et $\\hat{\\lambda}_\\mathrm{ml}$ est de résoudre le système\n",
    "$$\\begin{cases}\n",
    "\\hat{\\lambda}_\\mathrm{ml} = \\hat{a}_\\mathrm{ml} \\; / \\;\\overline{x} \\\\\n",
    "\\ln(\\hat{a}_\\mathrm{ml})-\\psi (\\hat{a}_\\mathrm{ml}) - \\ln({\\bar {x}}) + {\\overline {\\ln(x)}} = 0\n",
    "\\end{cases}$$\n",
    "avec $\\psi(x)$ la fonction digamma (*i.e.* la dérivée logarithmique de la fonction Gamma d'Euler) et $\\overline{\\ln(x)}$ la moyenne d'échantillon de $\\ln(x)$.\n"
   ]
  },
  {
   "cell_type": "markdown",
   "metadata": {
    "id": "a0b1b9eb"
   },
   "source": [
    "<span style=\"color:red\">Faisons apparaitre la moyenne d'échantillon de $x$, $\\bar{x}$, et de $\\ln(x)$, $\\overline{\\ln(x)}$, dans la log-vraisemblance,\n",
    "\n",
    "$\\displaystyle \\ln L(a, \\lambda; \\textbf{x}) = (a-1) n \\overline{\\ln(x)} - n \\ln \\Gamma(a) + n a \\ln \\lambda - \\lambda n \\bar{x}$\n",
    "\n",
    "On cherche le maximum de cette expression:\n",
    "\n",
    "$\\dfrac{\\partial \\ln L(a, \\lambda; \\textbf{x})}{\\partial \\lambda} = 0 + 0 + n \\hat{a}_\\mathrm{ml} \\dfrac{1}{\\hat{\\lambda}_\\mathrm{ml}} - n \\bar{x} = 0 \\Leftrightarrow \\hat{\\lambda}_\\mathrm{ml} = \\hat{a}_\\mathrm{ml} \\; / \\;\\overline{x} \\qquad (3)$\n",
    "\n",
    "$\\dfrac{\\partial \\ln L(a, \\lambda; \\textbf{x})}{\\partial a} = n \\overline{\\ln(x)} - n \\psi (\\hat{a}_\\mathrm{ml}) + n \\ln \\hat{\\lambda}_\\mathrm{ml} - 0 = 0 \\qquad (4)$\n",
    "\n",
    "(3) $\\rightarrow$ (4) $\\ln(\\hat{a}_\\mathrm{ml})-\\psi (\\hat{a}_\\mathrm{ml}) - \\ln({\\bar {x}}) + {\\overline {\\ln(x)}} = 0$\n",
    "\n",
    "</span>"
   ]
  },
  {
   "cell_type": "markdown",
   "metadata": {
    "id": "72e749e4"
   },
   "source": [
    "<!-- END QUESTION -->\n",
    "\n",
    "<!-- BEGIN QUESTION -->\n",
    "\n",
    "### Question 1.4\n",
    "Résolvez maintenant ce système numériquement, avec la méthode de votre choix, afin de déterminer $\\hat{a}_\\mathrm{ml}$ et $\\hat{\\lambda}_\\mathrm{ml}$."
   ]
  },
  {
   "cell_type": "code",
   "execution_count": 51,
   "metadata": {
    "colab": {
     "base_uri": "https://localhost:8080/"
    },
    "id": "3b8ac7ee",
    "outputId": "5b9445fa-4394-4a33-ec6c-3337f6aff39c"
   },
   "outputs": [
    {
     "name": "stdout",
     "output_type": "stream",
     "text": [
      "a_ml = 20.089631925108954\n",
      "lambda_ml = 2.3425410360434884\n"
     ]
    }
   ],
   "source": [
    "fxd_acid_log_mean = 0\n",
    "for i in range(n):\n",
    "    fxd_acid_log_mean += np.log(echantillon.iat[i])\n",
    "fxd_acid_log_mean /= n\n",
    "\n",
    "a_ml = opt.fsolve(lambda x: np.log(x) - sp.digamma(x) - np.log(fxd_acid_mean) + fxd_acid_log_mean, a_mom)[0]\n",
    "print(\"a_ml =\", a_ml)\n",
    "\n",
    "lambda_ml = a_ml/fxd_acid_mean\n",
    "print(\"lambda_ml =\", lambda_ml)"
   ]
  },
  {
   "cell_type": "markdown",
   "metadata": {
    "id": "b6365413"
   },
   "source": [
    "<!-- END QUESTION -->\n",
    "\n",
    "<!-- BEGIN QUESTION -->\n",
    "\n",
    "### Question 1.5\n",
    "Superposez à présent l'histogramme de votre population avec la distribution $\\mathrm{Gamma}(\\hat{a}, \\hat{\\lambda})$ associée aux paramètres calculés avec chacune des méthodes. "
   ]
  },
  {
   "cell_type": "code",
   "execution_count": 52,
   "metadata": {
    "colab": {
     "base_uri": "https://localhost:8080/",
     "height": 464
    },
    "id": "0e2f92d3",
    "outputId": "fe64dd6a-f92c-4d2e-cd8c-b10d7622d46d"
   },
   "outputs": [
    {
     "data": {
      "image/png": "[encoded data removed]",
      "text/plain": [
       "<Figure size 720x504 with 1 Axes>"
      ]
     },
     "metadata": {
      "needs_background": "light"
     },
     "output_type": "display_data"
    }
   ],
   "source": [
    "scale_mom = 1 / lambda_mom\n",
    "scale_ml = 1 / lambda_ml\n",
    "\n",
    "echantillon_sort = echantillon.sort_values()\n",
    "gamma_mom_pdf_ech = stats.gamma.pdf(echantillon_sort, a = a_mom, scale = scale_mom)\n",
    "gamma_ml_pdf_ech = stats.gamma.pdf(echantillon_sort, a = a_ml, scale = scale_ml)\n",
    "fig = plt.figure(figsize=(10,7))\n",
    "plt.plot(echantillon_sort, gamma_mom_pdf_ech, color='darkorchid', linewidth = 3, label=r'pdf asymptotique de $X$ par la MOM pour 50')\n",
    "plt.plot(echantillon_sort, gamma_ml_pdf_ech, color='tab:pink', linewidth = 3, label=r'pdf asymptotique de $X$ par la MLE pour 50')\n",
    "\n",
    "# plot the histogram\n",
    "#plt.hist(fxd_acid, density=True, bins=70, color='tab:cyan', label=r'pdf de $X$ pour la population entière')\n",
    "plt.hist(echantillon, density=True, bins=20, color='tab:cyan', label=r'pdf de $X$ pour la population de 50')\n",
    "plt.xlabel('acidité fixe [g/dm$^3$]')\n",
    "plt.ylabel('densité')\n",
    "plt.title('Histogramme de l\\'acidité fixe')\n",
    "plt.legend(loc='best')\n",
    "plt.show()"
   ]
  },
  {
   "cell_type": "markdown",
   "metadata": {
    "id": "587d2abf"
   },
   "source": [
    "Que pouvez-vous en conclure ?"
   ]
  },
  {
   "cell_type": "markdown",
   "metadata": {
    "id": "3f921690"
   },
   "source": [
    "<span style=\"color:red\">Les résultats des PDFs asymptotiques sont semblables.\n",
    "\n",
    "Ils semblent assez bien collés à notre histogramme de la population de 50 vins donc notre facon de faire ces estimateurs semble correcte.\n",
    "\n",
    "</span>"
   ]
  },
  {
   "cell_type": "markdown",
   "metadata": {
    "id": "cf540113"
   },
   "source": [
    "<!-- END QUESTION -->\n",
    "\n",
    "<!-- BEGIN QUESTION -->\n",
    "\n",
    "### Question 1.6\n",
    "Utilisez maintenant le module [SciPy](https://docs.scipy.org/doc/scipy/index.html) de Python pour réaliser un *fit* de la distribution de la variable étudiée (en considérant la population entière) pour une distribution $\\mathrm{Gamma}$, afin de déterminer quelles valeurs de paramètres $a_\\mathrm{fit}$ et $\\lambda_\\mathrm{fit}$ collent le plus à la population."
   ]
  },
  {
   "cell_type": "code",
   "execution_count": 53,
   "metadata": {
    "colab": {
     "base_uri": "https://localhost:8080/"
    },
    "id": "8bf5ae54",
    "outputId": "f8a4d79c-6c5b-48a5-ca7f-f317b4a52576"
   },
   "outputs": [
    {
     "name": "stdout",
     "output_type": "stream",
     "text": [
      "a_fit_ml = 24.684114370550912\n",
      "lambda_fit_ml = 2.9669700204095975\n"
     ]
    }
   ],
   "source": [
    "# MLE, par default\n",
    "shape_fit_ml, loc_fit_ml, scale_fit_ml = stats.gamma.fit(fxd_acid, floc = 0)\n",
    "a_fit_ml = shape_fit_ml\n",
    "lambda_fit_ml = 1 / scale_fit_ml\n",
    "print(\"a_fit_ml =\", a_fit_ml)\n",
    "print(\"lambda_fit_ml =\", lambda_fit_ml)"
   ]
  },
  {
   "cell_type": "markdown",
   "metadata": {
    "id": "f750a3a6"
   },
   "source": [
    "Superposez le modèle *fitté* à la superposition réalisée au point précédent."
   ]
  },
  {
   "cell_type": "code",
   "execution_count": 54,
   "metadata": {
    "colab": {
     "base_uri": "https://localhost:8080/",
     "height": 464
    },
    "id": "e71064f0",
    "outputId": "f47f35af-389a-452a-fd6d-35d61d8ac9f3"
   },
   "outputs": [
    {
     "data": {
      "image/png": "[encoded data removed]",
      "text/plain": [
       "<Figure size 720x504 with 1 Axes>"
      ]
     },
     "metadata": {
      "needs_background": "light"
     },
     "output_type": "display_data"
    }
   ],
   "source": [
    "gamma_fit_ml_pdf_ech = stats.gamma.pdf(echantillon_sort, a = a_fit_ml, scale = scale_fit_ml)\n",
    "\n",
    "echantillon_sort = echantillon.sort_values()\n",
    "gamma_mom_pdf_ech = stats.gamma.pdf(echantillon_sort, a = a_mom, scale = scale_mom)\n",
    "gamma_ml_pdf_ech = stats.gamma.pdf(echantillon_sort, a = a_ml, scale = scale_ml)\n",
    "fig = plt.figure(figsize=(10,7))\n",
    "plt.plot(echantillon_sort, gamma_mom_pdf_ech, color='darkorchid', linewidth = 3, label=r'pdf asymptotique de $X$ par la MOM')\n",
    "plt.plot(echantillon_sort, gamma_ml_pdf_ech, color='tab:pink', linewidth = 3, label=r'pdf asymptotique de $X$ par la MLE')\n",
    "plt.plot(echantillon_sort, gamma_fit_ml_pdf_ech, color='deeppink', linewidth = 3, label=r'pdf asymptotique de $X$ fit')\n",
    "\n",
    "# plot the histogram\n",
    "#plt.hist(fxd_acid, density=True, bins=70, color='tab:cyan', label=r'pdf de $X$ pour la population entière')\n",
    "plt.hist(echantillon, density=True, bins=20, color='tab:cyan', label=r'pdf de $X$ pour la population de 50')\n",
    "plt.xlabel('acidité fixe [g/dm$^3$]')\n",
    "plt.ylabel('densité')\n",
    "plt.title('Histogramme de l\\'acidité fixe')\n",
    "plt.legend(loc='best')\n",
    "plt.show()"
   ]
  },
  {
   "cell_type": "markdown",
   "metadata": {
    "id": "7e3f1fe3"
   },
   "source": [
    "Au regard de cette superposition, qu'en déduisez-vous quant à la pertinence du modèle choisi pour décrire la variable étudiée ?"
   ]
  },
  {
   "cell_type": "markdown",
   "metadata": {
    "id": "15750b74"
   },
   "source": [
    "<span style=\"color:red\"> On voit que les 3 PDFs sont presque les mêmes, donc notre facon d'estimer devait être très proche de la réalité. On remarque en plus que la méthode fit se rapproche d'autant plus de la MLE que de la MOM, ce qui est normal étant donné que notre fonction fit utilise la méthode de la MLE.\n",
    "    \n",
    "</span>"
   ]
  },
  {
   "cell_type": "markdown",
   "metadata": {
    "id": "53b3dadf"
   },
   "source": [
    "<!-- END QUESTION -->\n",
    "\n",
    "<!-- BEGIN QUESTION -->\n",
    "\n",
    "### Question 1.7\n",
    "\n",
    "Afin d'évaluer la qualité de vos estimateurs $\\hat{\\theta}_\\mathrm{mom} = (\\hat{a}_\\mathrm{mom}, \\hat{\\lambda}_\\mathrm{mom})$ et $\\hat{\\theta}_\\mathrm{ml} = (\\hat{a}_\\mathrm{ml}, \\hat{\\lambda}_\\mathrm{ml})$, vous considérez pour la suite la valeur $\\theta_\\mathrm{fit} = (a_\\mathrm{fit}, \\lambda_\\mathrm{fit})$ comme étant la vraie valeur des paramètres $(a,\\lambda)$, en considérant que la variable étudiée suit bien une $\\mathrm{Gamma}(a, \\lambda)$. Pour se faire, vous tirez 500 échantillons i.i.d. de 50 vins dans votre population et appliquez la procédure suivante.\n",
    "\n",
    "- Pour chaque échantillon, calculez les estimateurs $\\hat{a}_\\mathrm{mom}$ et $\\hat{\\lambda}_\\mathrm{mom}$. Calculez le biais, la variance et l'erreur quadratique moyenne de ces estimateurs.\n",
    "- Faites de même pour les estimateurs $\\hat{a}_\\mathrm{ml}$ et $\\hat{\\lambda}_\\mathrm{ml}$.\n",
    "\n",
    "Présentez vos résultats dans une table."
   ]
  },
  {
   "cell_type": "code",
   "execution_count": 55,
   "metadata": {
    "colab": {
     "base_uri": "https://localhost:8080/",
     "height": 143
    },
    "id": "90d27152",
    "outputId": "b6d5b303-3c6a-474a-b2d3-162f5f17d29d"
   },
   "outputs": [
    {
     "data": {
      "text/html": [
       "<div>\n",
       "<style scoped>\n",
       "    .dataframe tbody tr th:only-of-type {\n",
       "        vertical-align: middle;\n",
       "    }\n",
       "\n",
       "    .dataframe tbody tr th {\n",
       "        vertical-align: top;\n",
       "    }\n",
       "\n",
       "    .dataframe thead th {\n",
       "        text-align: right;\n",
       "    }\n",
       "</style>\n",
       "<table border=\"1\" class=\"dataframe\">\n",
       "  <thead>\n",
       "    <tr style=\"text-align: right;\">\n",
       "      <th></th>\n",
       "      <th>a_mom</th>\n",
       "      <th>lambda_mom</th>\n",
       "      <th>a_ml</th>\n",
       "      <th>lambda_ml</th>\n",
       "    </tr>\n",
       "  </thead>\n",
       "  <tbody>\n",
       "    <tr>\n",
       "      <th>biais</th>\n",
       "      <td>0.251128</td>\n",
       "      <td>0.040160</td>\n",
       "      <td>1.914919</td>\n",
       "      <td>0.240855</td>\n",
       "    </tr>\n",
       "    <tr>\n",
       "      <th>variance</th>\n",
       "      <td>35.531508</td>\n",
       "      <td>0.562369</td>\n",
       "      <td>35.205478</td>\n",
       "      <td>0.563674</td>\n",
       "    </tr>\n",
       "    <tr>\n",
       "      <th>mse</th>\n",
       "      <td>35.594573</td>\n",
       "      <td>0.563982</td>\n",
       "      <td>38.872393</td>\n",
       "      <td>0.621685</td>\n",
       "    </tr>\n",
       "  </tbody>\n",
       "</table>\n",
       "</div>"
      ],
      "text/plain": [
       "              a_mom  lambda_mom       a_ml  lambda_ml\n",
       "biais      0.251128    0.040160   1.914919   0.240855\n",
       "variance  35.531508    0.562369  35.205478   0.563674\n",
       "mse       35.594573    0.563982  38.872393   0.621685"
      ]
     },
     "execution_count": 55,
     "metadata": {},
     "output_type": "execute_result"
    }
   ],
   "source": [
    "# Number of repetitions\n",
    "n_rep = 500\n",
    "\n",
    "# Loop to generate samples and compute what is needed\n",
    "fxd_acid_mean = np.zeros(n_rep)\n",
    "fxd_acid_log_mean = np.zeros(n_rep)\n",
    "lambda_mom = np.zeros(n_rep)\n",
    "a_mom = np.zeros(n_rep)\n",
    "lambda_ml = np.zeros(n_rep)\n",
    "a_ml = np.zeros(n_rep)\n",
    "\n",
    "# Creating the array to convert\n",
    "Regrouping_array1 = np.zeros((1, 16))\n",
    "Regrouping_array = np.zeros((3, 4))\n",
    "  \n",
    "for j in np.arange(n_rep):\n",
    "    echantillon = fxd_acid.sample(n=n)\n",
    "    fxd_acid_mean[j] = echantillon.mean()\n",
    "    sum = 0\n",
    "    fxd_acid_log_mean[j] = 0\n",
    "    for k in range(n):\n",
    "        tmp = echantillon.iat[k]\n",
    "        sum += tmp**2\n",
    "        fxd_acid_log_mean[j] += np.log(tmp)\n",
    "    sum /= n\n",
    "    fxd_acid_log_mean[j] /= n\n",
    "\n",
    "    lambda_mom[j] = fxd_acid_mean[j] / (sum - fxd_acid_mean[j]**2)\n",
    "    a_mom[j]= fxd_acid_mean[j] * lambda_mom[j]\n",
    "\n",
    "    a_ml[j] = opt.fsolve(lambda x: np.log(x) - sp.digamma(x) - np.log(fxd_acid_mean[j]) + fxd_acid_log_mean[j], a_mom[j])[0]\n",
    "    lambda_ml[j] = a_ml[j]/fxd_acid_mean[j]\n",
    "\n",
    "E_a_mom = np.mean(a_mom)\n",
    "E_lambda_mom = np.mean(lambda_mom)\n",
    "E_a_ml = np.mean(a_ml)\n",
    "E_lambda_ml = np.mean(lambda_ml)\n",
    "\n",
    "Regrouping_array[0][0] = E_a_mom - a_fit_ml # biais_a_mom\n",
    "Regrouping_array[1][0] = a_mom.var(ddof=1) # var_a_mom\n",
    "Regrouping_array[2][0] = Regrouping_array[1][0] + (Regrouping_array[0][0])**2 # mse_a_mom\n",
    "\n",
    "Regrouping_array[0][1] = E_lambda_mom - lambda_fit_ml # biais_lambda_mom\n",
    "Regrouping_array[1][1] = lambda_mom.var(ddof=1) # var_lambda_mom\n",
    "Regrouping_array[2][1] = Regrouping_array[1][1] + (Regrouping_array[0][1])**2 # mse_lambda_mom = var_lambda_mom + (biais_lambda_mom)**2\n",
    "\n",
    "Regrouping_array[0][2] = E_a_ml - a_fit_ml # biais_a_ml\n",
    "Regrouping_array[1][2] = a_ml.var(ddof=1) # var_a_ml\n",
    "Regrouping_array[2][2] = Regrouping_array[1][2] + (Regrouping_array[0][2])**2 # mse_a_ml = var_a_ml + (biais_a_ml)**2\n",
    "\n",
    "Regrouping_array[0][3] = E_lambda_ml - lambda_fit_ml # biais_lambda_ml\n",
    "Regrouping_array[1][3] = lambda_ml.var(ddof=1) # var_lambda_ml\n",
    "Regrouping_array[2][3] = Regrouping_array[1][3] + (Regrouping_array[0][3])**2 # mse_lambda_ml = var_lambda_ml + (biais_lambda_ml)**2\n",
    "\n",
    "df = pd.DataFrame(Regrouping_array, columns=['a_mom', 'lambda_mom', 'a_ml', 'lambda_ml'],index = ['biais', 'variance', 'mse'])\n",
    "df"
   ]
  },
  {
   "cell_type": "markdown",
   "metadata": {
    "id": "41af304b"
   },
   "source": [
    "Comparez les résultats obtenus pour les estimateurs $\\mathrm{MOM}$ et $\\mathrm{ML}$. Quelle méthode donne les meilleurs estimateurs ? Discutez."
   ]
  },
  {
   "cell_type": "markdown",
   "metadata": {
    "id": "efbfca92"
   },
   "source": [
    "<span style=\"color:red\">Aussi bien pour $\\lambda$ que pour a par MLE, le bais est plus élevés que par la MOM. L'erreur quadratique moyenne est donc elle aussi plus élevée. Les variances quant à elles sont semblables, elles ne nous apportent donc pas de résultats significatifs.\n",
    "\n",
    "Ainsi, la MOM donne les meilleurs estimateurs.\n",
    "    \n",
    "</span>"
   ]
  },
  {
   "cell_type": "markdown",
   "metadata": {
    "id": "7963a3e0"
   },
   "source": [
    "<!-- END QUESTION -->\n",
    "\n",
    "## 2. Estimation par intervalle"
   ]
  },
  {
   "cell_type": "markdown",
   "metadata": {
    "id": "81e2f34a"
   },
   "source": [
    "Dans cette partie, vous vous intéressez plus particulièrement à la variable \"dixodyde de soufre total\" du vin (*total sulfur dioxide* dans votre set de données), rendant compte de la quantité de cet additif servant d'antioxydant et d'antimicrobien.\n",
    "\n",
    "Cette variable prend des valeurs positives et s'exprime en [$mg/dm^3$]. Vous faites l'hypothèse que cette variable suit une distribution $Exponentielle$ de paramètre $\\lambda$, dont la PDF est donnée par\n",
    "\n",
    "$$\\lambda e^{-\\lambda x},\\; \\text{pour} \\; x>0.$$\n",
    "\n",
    "On vous demande de construire des intervalles de confiance pour ce paramètre $\\lambda$.\n",
    "\n",
    "Vous décidez de calculer cet intervalle en utilisant deux méthodes : la méthode du pivot et la méthode du boostrap. Vous commencez par tester ces méthodes sur un échantillon de 50 vins."
   ]
  },
  {
   "cell_type": "markdown",
   "metadata": {
    "id": "ff9be6bd"
   },
   "source": [
    "<!-- BEGIN QUESTION -->\n",
    "\n",
    "### Question 2.1 \n",
    "Définissez mathématiquement un intervalle de confiance à 95% pour la variable étudiée en utilisant la méthode du pivot. Précisez quel est votre pivot et détaillez vos calculs. "
   ]
  },
  {
   "cell_type": "markdown",
   "metadata": {
    "id": "904b65a5"
   },
   "source": [
    "<span style=\"color:red\">Soit Y la variable aléatoire du dioxyde de sulfure. \n",
    "\n",
    "$Y_j$ $\\sim$ Expo($\\lambda$)\n",
    "\n",
    "$\\rightarrow n \\bar{Y} \\sim$ Gamma($n, \\lambda$)\n",
    "\n",
    "$\\rightarrow \\lambda n \\bar{Y} \\sim$ Gamma($n, 1$)\n",
    "\n",
    "$\\lambda n \\bar{Y}$ est notre pivot.\n",
    "\n",
    "Construisons maintenant l'intervalle de confiance à 95%.\n",
    "\n",
    "$P(Q_{Gamma_{(n, 1)}}(0.025) \\leq \\lambda n \\bar{Y} \\leq Q_{Gamma_{(n, 1)}}(0.975) = 0.975 - 0.025 = 0.95$\n",
    "\n",
    "$P\\left(\\dfrac{Q_{Gamma_{(n, 1)}}(0.025)}{n \\bar{Y}} \\leq \\lambda \\leq \\dfrac{Q_{Gamma_{(n, 1)}}(0.975)}{n \\bar{Y}}\\right) = 0.95$\n",
    "\n",
    "L'intervalle de confiance à 95% pour $\\lambda$ devient donc : \n",
    "\n",
    "$C(\\textbf{Y}) = \\left[\\dfrac{Q_{Gamma_{(n, 1)}}(0.025)}{n \\bar{Y}} \\ ; \\ \\dfrac{Q_{Gamma_{(n, 1)}}(0.975)}{n \\bar{Y}} \\right]$\n",
    "    \n",
    "</span>"
   ]
  },
  {
   "cell_type": "markdown",
   "metadata": {
    "id": "c21b35ed"
   },
   "source": [
    "<!-- END QUESTION -->\n",
    "\n",
    "<!-- BEGIN QUESTION -->\n",
    "\n",
    "### Question 2.2\n",
    "Calculez cet intervalle pour votre échantillon de 50 vins."
   ]
  },
  {
   "cell_type": "code",
   "execution_count": 114,
   "metadata": {
    "colab": {
     "base_uri": "https://localhost:8080/"
    },
    "id": "83151e14",
    "outputId": "4d2b3151-d279-4528-9d6c-a8b8cd19bc1c"
   },
   "outputs": [
    {
     "name": "stdout",
     "output_type": "stream",
     "text": [
      "CI : [ 0.015862775694576562 ; 0.027689933145081554 ]\n"
     ]
    }
   ],
   "source": [
    "data_sulf = data[['total sulfur dioxide']]\n",
    "sulfur = data_sulf['total sulfur dioxide']\n",
    "\n",
    "# sample size\n",
    "n = 50\n",
    "echantillon_sulf = sulfur.sample(n=n)\n",
    "sulf_mean = echantillon_sulf.mean()\n",
    "\n",
    "#Gamma(n, 1)\n",
    "Q_025 = stats.gamma.ppf(0.025, a = n, loc=0, scale=1)\n",
    "Q_975 = stats.gamma.ppf(0.975, a = n, loc=0, scale=1)\n",
    "\n",
    "tmp = n * sulf_mean\n",
    "CI_low = Q_025 / tmp\n",
    "CI_high = Q_975 / tmp\n",
    "print(\"CI : [\", CI_low, \";\", CI_high, \"]\")"
   ]
  },
  {
   "cell_type": "markdown",
   "metadata": {
    "id": "a46dc37a"
   },
   "source": [
    "<!-- END QUESTION -->\n",
    "\n",
    "<!-- BEGIN QUESTION -->\n",
    "\n",
    "### Question 2.3 \n",
    "Expliquez comment vous pouvez déterminer un intervalle de confiance à 95% en utilisant la méthode du boostrap."
   ]
  },
  {
   "cell_type": "markdown",
   "metadata": {
    "id": "c51cadd0"
   },
   "source": [
    "<span style=\"color:red\">Soit l'estimateur de notre vraie population $\\hat{\\lambda} = T(Y_1, ... , Y_n)$\n",
    "\n",
    "Générons B = 100 bootstraps et calculons $\\hat{\\lambda}^* = T(\\textbf{Y}^*)$ de nos B échantillons,  \n",
    "\n",
    "Par la méthode de percentile, on utilise les quantiles d'échantillon de nos $\\hat{\\lambda}$. L'intervalle va du quantile 0,025 au quantile 0,975. \n",
    "\n",
    "On trouve donc l'interval percentile suivant : \n",
    "\n",
    "$\\left[\\hat{\\lambda}^*_{(\\lceil 0,025.B\\rceil)} \\ ; \\ \\hat{\\lambda}^*_{(\\lceil 0,975.B\\rceil)}\\right]$ = $\\left[\\hat{\\lambda}^*_{(\\lceil 2,5\\rceil)} \\ ; \\ \\hat{\\lambda}^*_{(\\lceil 97,5\\rceil)}\\right]$\n",
    "\n",
    "</span>"
   ]
  },
  {
   "cell_type": "markdown",
   "metadata": {
    "id": "f2434d23"
   },
   "source": [
    "<!-- END QUESTION -->\n",
    "\n",
    "<!-- BEGIN QUESTION -->\n",
    "\n",
    "### Question 2.4 \n",
    "Calculez cet intervalle pour votre échantillon de 50 vins, en utilisant 100 échantillons bootstrap."
   ]
  },
  {
   "cell_type": "code",
   "execution_count": 115,
   "metadata": {
    "colab": {
     "base_uri": "https://localhost:8080/"
    },
    "id": "bab4a359",
    "outputId": "ba844b2c-f7df-4710-86b4-61645aca0294"
   },
   "outputs": [
    {
     "name": "stdout",
     "output_type": "stream",
     "text": [
      "CI avec mean : [ 0.017991112390479104 ; 0.02633554112953136 ]\n"
     ]
    }
   ],
   "source": [
    "donnees = (echantillon_sulf.to_numpy(),)\n",
    "# nombre échantillons bootstrap\n",
    "B = 100\n",
    "\n",
    "#mu = 1/lambda\n",
    "CI_mu = stats.bootstrap(donnees, np.mean, n_resamples = B, confidence_level = 0.95, random_state = 1, method = 'percentile')\n",
    "CI_low = 1 / CI_mu.confidence_interval[1]\n",
    "CI_high = 1 / CI_mu.confidence_interval[0]\n",
    "print(\"CI avec mean : [\", CI_low, \";\", CI_high, \"]\")"
   ]
  },
  {
   "cell_type": "markdown",
   "metadata": {
    "id": "6596c607"
   },
   "source": [
    "<!-- END QUESTION -->\n",
    "\n",
    "<!-- BEGIN QUESTION -->\n",
    "\n",
    "### Question 2.5\n",
    "Pour comparer vos deux méthodes, vous décidez de calculer des intervalles de confiance pour des tailles d'échantillons de 5 à 50 (avec un incrément de 5). Pour chaque taille d'échantillon, tirez 500 échantillons. Pour chaque échantillons, construisez deux intervalles de confiance à 95 % en utilisant d'une part la méthode du pivot et d'autre part la méthode du bootstrap avec 100 échantillons bootstrap."
   ]
  },
  {
   "cell_type": "code",
   "execution_count": 116,
   "metadata": {
    "id": "9b8f9e0b"
   },
   "outputs": [],
   "source": [
    "sample_size = np.arange(5, 51, 5)\n",
    "N = 500\n",
    "length = len(sample_size)\n",
    "CI_piv_low = np.zeros((length, N))\n",
    "CI_piv_high = np.zeros((length, N))\n",
    "CI_boo_low = np.zeros((length, N))\n",
    "CI_boo_high = np.zeros((length, N))\n",
    "largeur_piv_moy = np.zeros(length)\n",
    "largeur_boo_moy = np.zeros(length)\n",
    "\n",
    "k = 0\n",
    "for i in sample_size:\n",
    "    for j in range(N):\n",
    "        echantillon_sulf = sulfur.sample(n=i)\n",
    "        sulf_mean = echantillon_sulf.mean()\n",
    "        Q_025 = stats.gamma.ppf(0.025, a = i, loc=0, scale=1)\n",
    "        Q_975 = stats.gamma.ppf(0.975, a = i, loc=0, scale=1)\n",
    "\n",
    "        tmp = i * sulf_mean\n",
    "        CI_piv_low[k][j] = Q_025 / tmp\n",
    "        CI_piv_high[k][j] = Q_975 / tmp\n",
    "\n",
    "        donnees = (echantillon_sulf.to_numpy(),)\n",
    "        CI_mu = stats.bootstrap(donnees, np.mean, n_resamples = B, confidence_level = 0.95, random_state = 1, method = 'percentile')\n",
    "        CI_boo_low[k][j] = 1 / CI_mu.confidence_interval[1]\n",
    "        CI_boo_high[k][j] = 1 / CI_mu.confidence_interval[0]\n",
    "\n",
    "    largeur_piv_moy[k] = np.mean(CI_piv_high[k] - CI_piv_low[k])\n",
    "    largeur_boo_moy[k] = np.mean(CI_boo_high[k] - CI_boo_low[k])\n",
    "  \n",
    "    k += 1"
   ]
  },
  {
   "cell_type": "markdown",
   "metadata": {
    "id": "ac622c95"
   },
   "source": [
    "Analysez l'évolution de la largeur moyenne de ces intervalles en fonction de la taille d'échantillon. "
   ]
  },
  {
   "cell_type": "code",
   "execution_count": 117,
   "metadata": {
    "colab": {
     "base_uri": "https://localhost:8080/",
     "height": 459
    },
    "id": "bb534f8c",
    "outputId": "d0f09619-9b64-44c3-a418-e6663c6bb329"
   },
   "outputs": [
    {
     "data": {
      "image/png": "[encoded data removed]",
      "text/plain": [
       "<Figure size 720x504 with 1 Axes>"
      ]
     },
     "metadata": {
      "needs_background": "light"
     },
     "output_type": "display_data"
    }
   ],
   "source": [
    "fig = plt.figure(figsize=(10,7))\n",
    "plt.plot(sample_size, largeur_piv_moy, '-o', c = 'tab:purple', label=r'largeur moyenne par pivot')\n",
    "plt.plot(sample_size, largeur_boo_moy, '-o', c = 'tab:cyan', label=r'largeur moyenne par bootstrap')\n",
    "plt.xlabel('taille de l\\'échantillon [-]')\n",
    "plt.ylabel(r'Largeur moyenne [-]')\n",
    "plt.title('Evolution de la largeur moyenne des intervalles')\n",
    "plt.legend(loc='best')\n",
    "plt.show()"
   ]
  },
  {
   "cell_type": "markdown",
   "metadata": {
    "id": "4db80bae"
   },
   "source": [
    "Comparez les deux méthodes."
   ]
  },
  {
   "cell_type": "markdown",
   "metadata": {
    "id": "a110d2a0"
   },
   "source": [
    "<span style=\"color:red\">On remarque que la méthode du pivot choisie est moins précise que bootstrap et cela est particulièrement observé pour un échantillon petit.\n",
    "    \n",
    "</span>"
   ]
  },
  {
   "cell_type": "markdown",
   "metadata": {
    "id": "b6b239cd"
   },
   "source": [
    "<!-- END QUESTION -->\n",
    "\n",
    "<!-- BEGIN QUESTION -->\n",
    "\n",
    "### Question 2.6 \n",
    "Supposons que la variable étudiée dans la population suit effectivement une loi $Exponentielle$. Réalisez un *fit* de la distribution de la population afin de déterminer la valeur de $\\lambda_\\mathrm{fit}$, le paramètre \"optimal\" de la loi exponentielle pour votre population. Pour cela, utilisez le module [SciPy](https://docs.scipy.org/doc/scipy/index.html) de Python."
   ]
  },
  {
   "cell_type": "code",
   "execution_count": 118,
   "metadata": {
    "colab": {
     "base_uri": "https://localhost:8080/"
    },
    "id": "77781aa0",
    "outputId": "3d578348-4411-4d10-ed1a-b1dfd548cb9f"
   },
   "outputs": [
    {
     "name": "stdout",
     "output_type": "stream",
     "text": [
      "lambda_fit = 0.021520282092002907\n"
     ]
    }
   ],
   "source": [
    "loc_fit, scale_fit = stats.expon.fit(sulfur, floc = 0)\n",
    "lambda_fit = 1 / scale_fit\n",
    "print(\"lambda_fit =\", lambda_fit)"
   ]
  },
  {
   "cell_type": "markdown",
   "metadata": {
    "id": "03da6afd"
   },
   "source": [
    "<!-- END QUESTION -->\n",
    "\n",
    "<!-- BEGIN QUESTION -->\n",
    "\n",
    "### Question 2.7\n",
    "En reprenant la même marche à suivre qu'à la **question 2.5**, analysez maintenant l’évolution de la proportion d’intervalles contenant la valeur fittée du paramètre $\\lambda$, *i.e.* $\\lambda_\\mathrm{fit}$, en fonction de la taille d’échantillon. "
   ]
  },
  {
   "cell_type": "code",
   "execution_count": 119,
   "metadata": {
    "colab": {
     "base_uri": "https://localhost:8080/",
     "height": 461
    },
    "id": "82a4acef",
    "outputId": "7cb710d8-1fce-414e-e691-9f3e0949112d"
   },
   "outputs": [
    {
     "data": {
      "image/png": "[encoded data removed]",
      "text/plain": [
       "<Figure size 720x504 with 1 Axes>"
      ]
     },
     "metadata": {
      "needs_background": "light"
     },
     "output_type": "display_data"
    }
   ],
   "source": [
    "prop_interval_piv = np.zeros(length)\n",
    "prop_interval_boo = np.zeros(length)\n",
    "for i in range(length):\n",
    "    for j in range(N):\n",
    "        prop_interval_piv[i] += ((CI_piv_low[i][j] < lambda_fit) & (lambda_fit < CI_piv_high[i][j]))\n",
    "        prop_interval_boo[i] += ((CI_boo_low[i][j] < lambda_fit) & (lambda_fit < CI_boo_high[i][j]))\n",
    "\n",
    "prop_interval_piv /= N\n",
    "prop_interval_boo /= N\n",
    "\n",
    "fig = plt.figure(figsize=(10,7))\n",
    "plt.plot(sample_size, prop_interval_piv, '-o', c = 'tab:purple', label=r'proportion contenant $\\lambda_{fit}$ par pivot')\n",
    "plt.plot(sample_size, prop_interval_boo, '-o', c = 'tab:cyan', label=r'proportion contenant $\\lambda_{fit}$ par bootstrap')\n",
    "plt.xlabel('taille de l\\'échantillon [-]')\n",
    "plt.ylabel(r'proportion contenant $\\lambda_{fit}$ [-]')\n",
    "plt.title('Evolution de la proportion d\\'intervalles contenant $\\lambda_{fit}$')\n",
    "plt.legend(loc='best')\n",
    "plt.show()"
   ]
  },
  {
   "cell_type": "markdown",
   "metadata": {
    "id": "4e4996fb"
   },
   "source": [
    "<!-- END QUESTION -->\n",
    "\n",
    "<!-- BEGIN QUESTION -->\n",
    "\n",
    "Comparez les deux méthodes."
   ]
  },
  {
   "cell_type": "markdown",
   "metadata": {
    "id": "54562c89"
   },
   "source": [
    "<span style=\"color:red\">Le pivot, malgré le fait qu'on avait dit qu'il était moins précis pour un petit échantillon trouve plus souvent que bootstrap un intervalle qui contient réellement la valeur attendue. Bootstrap s'améliore à partir d'une taille d'échantillon de 15-20 vins. Il reste cependant toujours moins performant que le pivot.\n",
    "    \n",
    "</span>"
   ]
  },
  {
   "cell_type": "markdown",
   "metadata": {
    "id": "1bc57fb5"
   },
   "source": [
    "<!-- END QUESTION -->\n",
    "\n",
    "<!-- BEGIN QUESTION -->\n",
    "\n",
    "Était-il raisonnable de supposer que la variable étudiée suit une distribution $Exponentielle$ ?"
   ]
  },
  {
   "cell_type": "markdown",
   "metadata": {
    "id": "951529ee"
   },
   "source": [
    "<span style=\"color:red\">Ayant trouvé une proportion d'intervalles de confiance contenant $\\lambda_{fit}$ assez élevée, on peut en conclure qu'il est fort probable que la variable suivent une Exponentielle. Les seules données qui pourraient nous faire douter, sont celles pour les petits échantillons calculées avec bootstrap. Notons qu'il est possible que cela soit dû à la petite taille de l'échantillon.\n",
    "    \n",
    "</span>"
   ]
  },
  {
   "cell_type": "markdown",
   "metadata": {
    "id": "fced74ce"
   },
   "source": [
    "<!-- END QUESTION -->\n",
    "\n",
    "## 3. Test d'hypothèse"
   ]
  },
  {
   "cell_type": "markdown",
   "metadata": {
    "id": "43c1065c"
   },
   "source": [
    "Dans la communauté étudiante liégeoise, il n'est pas rare de faire l'hypothèse que plus un breuvage est alcoolisé, mieux c'est. Dans le cadre de ce devoir, vous allez vérifier cette hypothèse pour les vins considérés, en utilisant les données des variables \"alcool\" et \"qualité\" (resp. *alcohol* et *quality* dans votre set de données). Vous avez déjà étudié la première variable dans le cadre du premier devoir et la seconde, basée sur des données sensorielles, prend des valeurs entre 3 et 8.\n",
    "\n",
    "En d'autres termes, vous souhaitez tester l'hypothèse alternative $H_1$ : \"le taux d'alcool d'un vin de qualité est en moyenne inférieur au taux d'alcool d'un vin de faible qualité\", face à l'hypothèse nulle $H_0$ : \"le taux d'alcool d'un vin de qualité est en moyenne supérieur ou égal au taux d'alcool d'un vin de faible qualité\". \n",
    "\n",
    "Vous allez donc comparer le taux d'alcool des vins de deux groupes :\n",
    "- ceux dont la qualité est faible (score (strictement) en dessous de la médiane des qualités de la population entière) et\n",
    "- ceux dont elle est élevée (score en dessous de la médiane des qualités de la population entière),\n",
    "\n",
    "afin de vérifier l'hypothèse (imbibée) des étudiants liégeois. *hips !*"
   ]
  },
  {
   "cell_type": "markdown",
   "metadata": {
    "id": "74a6565f"
   },
   "source": [
    "<!-- BEGIN QUESTION -->\n",
    "\n",
    "### Question 3.1\n",
    "Formulez une hypothèse nulle et l'hypothèse alternative correspondante qui vous premettront de réaliser un test statistique pour établir votre comparaison."
   ]
  },
  {
   "cell_type": "markdown",
   "metadata": {
    "id": "26594799"
   },
   "source": [
    "<span style=\"color:red\">On cherche à montrer qu’en divisant au milieu notre population, la différence des moyennes des taux d'alcool des vins de qualité élevée $\\mu_e$ et des vins de faibles qualités $\\mu_f$ est plus grande que 0.\n",
    "\n",
    "$H_0: \\mu_e \\geq \\mu_f \\Leftrightarrow \\mu_e - \\mu_f \\geq 0$\n",
    "\n",
    "$H_1: \\mu_e < \\mu_f \\Leftrightarrow \\mu_e - \\mu_f < 0$\n",
    "    \n",
    "</span>"
   ]
  },
  {
   "cell_type": "markdown",
   "metadata": {
    "id": "d51c5915"
   },
   "source": [
    "Vérifiez laquelle de ces hypotyhèses est vraie dans votre population."
   ]
  },
  {
   "cell_type": "code",
   "execution_count": 3,
   "metadata": {
    "colab": {
     "base_uri": "https://localhost:8080/"
    },
    "id": "21640898",
    "outputId": "005bb4cf-d57c-4135-cea9-c606db1347ba"
   },
   "outputs": [
    {
     "name": "stdout",
     "output_type": "stream",
     "text": [
      "On n'élimine pas H_0.\n",
      "Le taux d'alcool d'un vin de qualité est en moyenne supérieur ou égal au taux d'alcool d'un vin de faible qualité.\n"
     ]
    }
   ],
   "source": [
    "data_alcohol = data[['alcohol']]\n",
    "alcohol = data_alcohol['alcohol']\n",
    "\n",
    "data_quality = data[['quality']]\n",
    "quality = data_quality['quality']\n",
    "\n",
    "quality_median = quality.median()\n",
    "quality_high = data_quality.loc[quality >= quality_median]\n",
    "quality_low = data_quality.loc[quality < quality_median]\n",
    "\n",
    "index_high = quality_high.index\n",
    "index_low = quality_low.index\n",
    "\n",
    "alcohol_qual_high = alcohol.loc[index_high]\n",
    "alcohol_qual_low = alcohol.loc[index_low]\n",
    "\n",
    "alcohol_qual_high_mean = alcohol_qual_high.mean()\n",
    "alcohol_qual_low_mean = alcohol_qual_low.mean()\n",
    "\n",
    "if alcohol_qual_high_mean >= alcohol_qual_low_mean:\n",
    "    print(\"On n'élimine pas H_0.\")\n",
    "    print(\"Le taux d'alcool d'un vin de qualité est en moyenne supérieur ou égal au taux d'alcool d'un vin de faible qualité.\")\n",
    "\n",
    "else:\n",
    "    print(\"On élimine H_0 et on retient H_1\")\n",
    "    print(\"Le taux d'alcool d'un vin de qualité est en moyenne inférieur au taux d'alcool d'un vin de faible qualité.\")"
   ]
  },
  {
   "cell_type": "markdown",
   "metadata": {
    "id": "4e3c3096"
   },
   "source": [
    "<!-- END QUESTION -->\n",
    "\n",
    "<!-- BEGIN QUESTION -->\n",
    "\n",
    "### Question 3.2 \n",
    "Décrivez comment réaliser un test d'hypothèse au seuil de signification $\\alpha = 5 \\%$ pour l'hypothèse formulée précédemment sur un échantillon de taille $n = n_f + n_e$, où $n_f$ est le nombre de vins de faible qualité et $n_e$ est le nombre de vins de qualité élevée. Considérez que les variances de population sont égales et inconnues."
   ]
  },
  {
   "cell_type": "markdown",
   "metadata": {
    "id": "03c3e3c5"
   },
   "source": [
    "<span style=\"color:red\">Soit $E_1, E_2,..., E_{n_e} \\overset{\\text{i.i.d.}}{\\sim} E$ les vins de qualité élevée independants de $F_1, F_2,..., E_{n_f} \\overset{\\text{i.i.d.}}{\\sim} F$ les vins de faibles qualités avec des moyennes inconnues $\\mu_e = E(E)$ et $\\mu_f = E(F)$\n",
    "\n",
    "Le cas le plus simple est un modèle où $E_i \\sim \\mathcal{N}(\\mu_e, \\sigma^2)$ et $F_i \\sim \\mathcal{N}(\\mu_f, \\sigma^2)$, où les deux groupes ont le même $\\sigma$.\n",
    "\n",
    "Ce $\\sigma$ étant inconnu, estimons le.\n",
    "\n",
    "$\\displaystyle S_e^2 = \\dfrac{1}{n_e-1}\\sum_{i=1}^{n_e} (E_i - \\bar{E})^2, \\quad \\text{et} \\quad S_f^2 = \\dfrac{1}{n_f-1}\\sum_{i=1}^{n_f} (F_i - \\bar{F})^2$\n",
    "\n",
    "Par la théorie de la normale, on sait que $\\dfrac{(n_e - 1) S_e^2}{\\sigma^2} \\sim \\chi^2_{n_e-1}$ est indépendant de $\\dfrac{(n_f - 1) S_f^2}{\\sigma^2} \\sim \\chi^2_{n_f-1}$, donc\n",
    "\n",
    "$\\dfrac{(n_e - 1) S_e^2}{\\sigma^2} + \\dfrac{(n_f - 1) S_f^2}{\\sigma^2} \\sim \\chi^2_{n_e + n_f-2}$\n",
    "\n",
    "On peut ainsi trouver $\\sigma^2$ en regroupant ces deux estimateurs dans $\\displaystyle S_{pooled}^2 = \\dfrac{1}{n_e+n_f-2}\\left( \\sum_{i=1}^{n_e} (E_i - \\bar{E})^2 + \\sum_{i=1}^{n_f} (F_i - \\bar{F})^2 \\right) = \\dfrac{(n_e - 1) S_e^2 + (n_f - 1) S_f^2}{n_e + n_f - 2}$\n",
    "\n",
    "\n",
    "On utilise le test de statistique\n",
    "$T = \\bar{E} - \\bar{F}$\n",
    "où \n",
    "$\\bar{E} - \\bar{F} \\sim \\mathcal{N}\\left(\\mu_e-\\mu_f,S^2_\\mathrm{pooled}\\left(\\frac{1}{n_e}+\\frac{1}{n_f}\\right)\\right).$\n",
    "\n",
    "$\\Leftrightarrow T = \\dfrac{(\\bar{E} - \\bar{F})-(\\mu_e - \\mu_f)}{S_{pooled}\\sqrt{\\dfrac{1}{n_e}+\\dfrac{1}{n_f}}} \\sim t_{n_e + n_f - 2}$\n",
    "\n",
    "On rejette alors $H_0 \\ (\\mu_e - \\mu_f \\geq 0)$ et on prend alors $H_1 \\ (\\mu_e - \\mu_f < 0)$ au seuil de signification $\\alpha$ si\n",
    "\n",
    "$\\dfrac{\\bar{E} - \\bar{F} - 0}{S_{pooled} \\sqrt{\\dfrac{1}{n_e} + \\dfrac{1}{n_f}}} = \\dfrac{\\bar{E} - \\bar{F}}{S_{pooled} \\sqrt{\\dfrac{1}{n_e} + \\dfrac{1}{n_f}}} < - Q_{t_{n_e + n_f - 2}}(1 - \\alpha) = Q_{t_{n_e + n_f - 2}}(\\alpha) $\n",
    "\n",
    "</span>"
   ]
  },
  {
   "cell_type": "markdown",
   "metadata": {
    "id": "da95509d"
   },
   "source": [
    "<!-- END QUESTION -->\n",
    "\n",
    "<!-- BEGIN QUESTION -->\n",
    "\n",
    "### Question 3.3 \n",
    "Tirez 100 échantillons i.i.d. de 75 vins. Pour chaque échantillon, testez l'hypothèse au seuil de signification $\\alpha = 5 \\%$. "
   ]
  },
  {
   "cell_type": "code",
   "execution_count": 95,
   "metadata": {
    "id": "c5cda4aa"
   },
   "outputs": [],
   "source": [
    "# sample size\n",
    "n = 75\n",
    "\n",
    "# Number of repetitions\n",
    "n_rep = 100\n",
    "\n",
    "# seuil de signification\n",
    "alpha = 0.05\n",
    "\n",
    "ddl = n - 2 # n_e + n_f - 2\n",
    "Q = stats.t.ppf(alpha, df=ddl)\n",
    "\n",
    "proportion = 0\n",
    "nombre = 0\n",
    "\n",
    "# Loop to generate samples and compute what is needed\n",
    "for i in np.arange(n_rep):\n",
    "    echantillons = quality.sample(n=n)\n",
    "\n",
    "    ech_quality_high = echantillons.loc[quality >= quality_median]\n",
    "    ech_quality_low = echantillons.loc[quality < quality_median]\n",
    "\n",
    "    ech_index_high = ech_quality_high.index\n",
    "    ech_index_low = ech_quality_low.index\n",
    "\n",
    "    ech_alcohol_qual_high = alcohol.loc[ech_index_high]\n",
    "    ech_alcohol_qual_low = alcohol.loc[ech_index_low]\n",
    "\n",
    "    ech_alcohol_qual_high_mean = ech_alcohol_qual_high.mean()\n",
    "    ech_alcohol_qual_low_mean = ech_alcohol_qual_low.mean()\n",
    "\n",
    "    n_e = ech_alcohol_qual_high.size\n",
    "    n_f = ech_alcohol_qual_low.size\n",
    "\n",
    "    #on evite la division par 0\n",
    "    if(n_f == 0):\n",
    "        continue\n",
    "    if(n_e == 0):\n",
    "        continue\n",
    "\n",
    "    S_e_2 = ech_alcohol_qual_high.var()\n",
    "    S_f_2 = ech_alcohol_qual_low.var()\n",
    "    S_p_2 = ((n_e - 1)*S_e_2 + (n_f - 1)*S_f_2)/(ddl)\n",
    "\n",
    "    test_hyp = (ech_alcohol_qual_high_mean - ech_alcohol_qual_low_mean)/(np.sqrt(S_p_2) * np.sqrt(1/n_e + 1/n_f))\n",
    "\n",
    "    proportion += test_hyp < Q # if = 1 we reject H_0\n",
    "    nombre += 1\n",
    "\n",
    "#on ne prend pas en compte les echantillons de taille nulle\n",
    "proportion *= 100/nombre"
   ]
  },
  {
   "cell_type": "markdown",
   "metadata": {
    "id": "51b8f5b0"
   },
   "source": [
    "Parmi les 100 échantillons, dans quelle proportion l'hypothèse nulle est-elle rejetée ? "
   ]
  },
  {
   "cell_type": "code",
   "execution_count": 96,
   "metadata": {
    "colab": {
     "base_uri": "https://localhost:8080/"
    },
    "id": "183a94b4",
    "outputId": "120ecde6-fe8f-4aeb-ba25-1f0a87a8ed9a"
   },
   "outputs": [
    {
     "name": "stdout",
     "output_type": "stream",
     "text": [
      "On a rejeté 0.0 %\n"
     ]
    }
   ],
   "source": [
    "print(\"On a rejeté\", proportion, \"%\")"
   ]
  },
  {
   "cell_type": "markdown",
   "metadata": {
    "id": "e00276fa"
   },
   "source": [
    "Comparez cette valeur à $\\alpha$. Interprétez."
   ]
  },
  {
   "cell_type": "markdown",
   "metadata": {
    "id": "4ed0ec00"
   },
   "source": [
    "<span style=\"color:red\">On sait que $\\alpha$ est la propabilité maximum possible d'avoir une erreur de type-I.\n",
    "    \n",
    "On remarque donc que notre proportion de réjection est bien plus faible que $\\alpha$  étant donné qu'il n'y a aucun rejet.\n",
    "    \n",
    "</span>"
   ]
  },
  {
   "cell_type": "markdown",
   "metadata": {
    "id": "3f665b42"
   },
   "source": [
    "<!-- END QUESTION -->\n",
    "\n",
    "<!-- BEGIN QUESTION -->\n",
    "\n",
    "### Question 3.4\n",
    "Sans modifier votre méthode de construction du test, répétez la même expérience avec 100 échantillons i.i.d. de **25** vins."
   ]
  },
  {
   "cell_type": "code",
   "execution_count": 107,
   "metadata": {
    "colab": {
     "base_uri": "https://localhost:8080/"
    },
    "id": "03b40873",
    "outputId": "03b00579-3f67-474a-b328-8971df254049"
   },
   "outputs": [
    {
     "name": "stdout",
     "output_type": "stream",
     "text": [
      "On a rejeté 0.0 %\n"
     ]
    }
   ],
   "source": [
    "# sample size\n",
    "n = 25\n",
    "\n",
    "proportion = 0\n",
    "nombre = 0\n",
    "\n",
    "# Loop to generate samples and compute what is needed\n",
    "for i in np.arange(n_rep):\n",
    "    echantillons = quality.sample(n=n)\n",
    "\n",
    "    ech_quality_high = echantillons.loc[quality >= quality_median]\n",
    "    ech_quality_low = echantillons.loc[quality < quality_median]\n",
    "\n",
    "    ech_index_high = ech_quality_high.index\n",
    "    ech_index_low = ech_quality_low.index\n",
    "\n",
    "    ech_alcohol_qual_high = alcohol.loc[ech_index_high]\n",
    "    ech_alcohol_qual_low = alcohol.loc[ech_index_low]\n",
    "\n",
    "    ech_alcohol_qual_high_mean = ech_alcohol_qual_high.mean()\n",
    "    ech_alcohol_qual_low_mean = ech_alcohol_qual_low.mean()\n",
    "\n",
    "    n_e = ech_alcohol_qual_high.size\n",
    "    n_f = ech_alcohol_qual_low.size\n",
    "\n",
    "    #on evite la division par 0\n",
    "    if(n_f == 0):\n",
    "        continue\n",
    "    if(n_e == 0):\n",
    "        continue\n",
    "\n",
    "    S_e_2 = ech_alcohol_qual_high.var()\n",
    "    S_f_2 = ech_alcohol_qual_low.var()\n",
    "    S_p_2 = ((n_e - 1)*S_e_2 + (n_f - 1)*S_f_2)/(ddl)\n",
    "\n",
    "    test_hyp = (ech_alcohol_qual_high_mean - ech_alcohol_qual_low_mean)/(np.sqrt(S_p_2) * np.sqrt(1/n_e + 1/n_f))\n",
    "\n",
    "    proportion += test_hyp < Q # if = 1 we reject H_0\n",
    "    nombre += 1\n",
    "\n",
    "#on ne prend pas en compte les echantillons de taille nulle\n",
    "proportion *= 100/nombre\n",
    "\n",
    "print(\"On a rejeté\", proportion, \"%\")"
   ]
  },
  {
   "cell_type": "markdown",
   "metadata": {
    "id": "f99c8147"
   },
   "source": [
    "Comparez au point précédent et interprétez."
   ]
  },
  {
   "cell_type": "markdown",
   "metadata": {
    "id": "e2bab1f5"
   },
   "source": [
    "<span style=\"color:red\">Tout d'abord, la valeur trouvée est soit égale soit légerement plus grande de 1% que celle pour des échantillons de taille 75. On a donc plus de chance de rejeter $H_0$ si $n=25$ que $n=75$.\n",
    "    \n",
    "    \n",
    "Cela semble cohérent avec notre formule de réjection de $H_0$ qui est\n",
    "    \n",
    "$\\dfrac{\\bar{E} - \\bar{F}}{S_{pooled} \\sqrt{\\dfrac{1}{n_e} + \\dfrac{1}{n_f}}} < Q_{t_{n_e + n_f - 2}}(0.05)$\n",
    "\n",
    "Étant donné que la taille $n$ de nos échantillons diminue, $n_e$ et $n_f$ diminuent eux aussi. Leur inverse augmente donc le dénominateur augmente et la fraction globale diminue. L'intervalle est donc diminué. La réjection est alors plus fréquente, ce qui est bien ce que l'on observe.\n",
    "\n",
    "Ensuite, nous avons remarqué que $Q_{t_{n_e + n_f - 2}}(0.05)$ est un nombre négatif, alors que le dénominateur $S_{pooled} \\sqrt{\\dfrac{1}{n_e} + \\dfrac{1}{n_f}}$ est positif. Du coup, le seul terme pouvant faire en sorte que la condition de rejection soit vérifiée est $\\bar{E} - \\bar{F}$. Ce terme est en général positif mais est négatif si notre hypothèse est rejetée.\n",
    "\n",
    "Remarquons que le taux de réjection reste donc plus faible que $\\alpha$.\n",
    "    \n",
    "</span>"
   ]
  }
 ],
 "metadata": {
  "colab": {
   "collapsed_sections": [
    "6496a49f",
    "830c8477"
   ],
   "provenance": []
  },
  "kernelspec": {
   "display_name": "Python 3",
   "language": "python",
   "name": "python3"
  },
  "language_info": {
   "codemirror_mode": {
    "name": "ipython",
    "version": 3
   },
   "file_extension": ".py",
   "mimetype": "text/x-python",
   "name": "python",
   "nbconvert_exporter": "python",
   "pygments_lexer": "ipython3",
   "version": "3.8.5"
  },
  "otter": {
   "OK_FORMAT": false,
   "assignment_name": "math0487-hw02",
   "tests": {}
  },
  "vscode": {
   "interpreter": {
    "hash": "9fd8822999b8dad6b535ba3cdc626c50b69b653c95086a3b01bd3376c8413095"
   }
  }
 },
 "nbformat": 4,
 "nbformat_minor": 5
}
